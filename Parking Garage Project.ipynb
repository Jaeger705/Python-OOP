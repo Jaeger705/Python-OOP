{
 "cells": [
  {
   "cell_type": "markdown",
   "metadata": {},
   "source": [
    "# Parking Garage Project\n",
    "\n",
    "Your assignment for today is to create a parking garage class to get more familiar with Object Oriented Programming(OOP). \n",
    "\n",
    "Your parking gargage class should have the following methods:\n",
    "- takeTicket\n",
    "   - This should decrease the amount of tickets available by 1\n",
    "   - This should decrease the amount of parkingSpaces available by 1\n",
    "- payForParking\n",
    "   - Display an input that waits for an amount from the user and store it in a variable\n",
    "   - If the payment variable is not empty then ->  display a message to the user that their ticket has been paid and they have 15mins to leave\n",
    "   - This should update the \"currentTicket\" dictionary key \"paid\" to True\n",
    "-leaveGarage\n",
    "   - If the ticket has been paid, display a message of \"Thank You, have a nice day\"\n",
    "   - If the ticket has not been paid, display an input prompt for payment\n",
    "      - Once paid, display message \"Thank you, have a nice day!\"\n",
    "   - Update parkingSpaces list to increase by 1\n",
    "   - Update tickets list to increase by 1\n",
    "\n",
    "You will need a few attributes as well:\n",
    "- tickets -> list\n",
    "- parkingSpaces -> list\n",
    "- currentTicket -> dictionary"
   ]
  },
  {
   "cell_type": "code",
   "execution_count": 1,
   "metadata": {},
   "outputs": [],
   "source": [
    "# Your Code will go here\n",
    "\n",
    "\n",
    "class ParkingGarage:\n",
    "    def __init__(self):\n",
    "        self.tickets = list(range(1, 101))  # Assuming 100 parking spaces initially\n",
    "        self.parkingSpaces = list(range(1, 101))\n",
    "        self.currentTicket = {}\n",
    "\n",
    "    def takeTicket(self):\n",
    "        if self.tickets and self.parkingSpaces:\n",
    "            ticket = self.tickets.pop(0)\n",
    "            self.parkingSpaces.pop(0)\n",
    "            self.currentTicket[ticket] = False\n",
    "            print(f\"Ticket number {ticket} has been taken. Please park your vehicle.\")\n",
    "        else:\n",
    "            print(\"Sorry, the garage is full.\")\n",
    "\n",
    "    def payForParking(self):\n",
    "        ticket_number = int(input(\"Please enter your ticket number: \"))\n",
    "        if ticket_number in self.currentTicket and not self.currentTicket[ticket_number]:\n",
    "            amount = input(\"Please enter the amount to pay for your parking: \")\n",
    "            if amount:\n",
    "                self.currentTicket[ticket_number] = True\n",
    "                print(\"Your ticket has been paid. You have 15 minutes to leave.\")\n",
    "            else:\n",
    "                print(\"You did not enter a valid payment. Your ticket has not been paid.\")\n",
    "        else:\n",
    "            print(\"Invalid ticket number or ticket already paid.\")\n",
    "\n",
    "    def leaveGarage(self):\n",
    "        ticket_number = int(input(\"Please enter your ticket number to leave: \"))\n",
    "        if ticket_number in self.currentTicket:\n",
    "            if self.currentTicket[ticket_number]:\n",
    "                print(\"Thank you, have a nice day!\")\n",
    "                self.parkingSpaces.append(ticket_number)\n",
    "                self.tickets.append(ticket_number)\n",
    "            else:\n",
    "                print(\"Ticket has not been paid. Please pay for your ticket first.\")\n",
    "                self.payForParking()\n",
    "                if self.currentTicket[ticket_number]:\n",
    "                    print(\"Thank you, have a nice day!\")\n",
    "                    self.parkingSpaces.append(ticket_number)\n",
    "                    self.tickets.append(ticket_number)\n",
    "        else:\n",
    "            print(\"Invalid ticket number.\")\n",
    "\n",
    "\n"
   ]
  },
  {
   "cell_type": "code",
   "execution_count": 6,
   "metadata": {},
   "outputs": [
    {
     "name": "stdout",
     "output_type": "stream",
     "text": [
      "Ticket number 1 has been taken. Please park your vehicle.\n",
      "Please enter your ticket number: 1\n",
      "Please enter the amount to pay for your parking: 10.00\n",
      "Your ticket has been paid. You have 15 minutes to leave.\n",
      "Please enter your ticket number to leave: 1\n",
      "Thank you, have a nice day!\n"
     ]
    }
   ],
   "source": [
    "garage = ParkingGarage()\n",
    "garage.takeTicket()  # A customer takes a ticket and parks\n",
    "garage.payForParking()  # The customer pays for the parking\n",
    "garage.leaveGarage()  # The customer leaves the garage\n"
   ]
  },
  {
   "cell_type": "code",
   "execution_count": null,
   "metadata": {},
   "outputs": [],
   "source": []
  },
  {
   "cell_type": "code",
   "execution_count": null,
   "metadata": {},
   "outputs": [],
   "source": []
  }
 ],
 "metadata": {
  "kernelspec": {
   "display_name": "Python 3 (ipykernel)",
   "language": "python",
   "name": "python3"
  },
  "language_info": {
   "codemirror_mode": {
    "name": "ipython",
    "version": 3
   },
   "file_extension": ".py",
   "mimetype": "text/x-python",
   "name": "python",
   "nbconvert_exporter": "python",
   "pygments_lexer": "ipython3",
   "version": "3.11.5"
  }
 },
 "nbformat": 4,
 "nbformat_minor": 2
}
